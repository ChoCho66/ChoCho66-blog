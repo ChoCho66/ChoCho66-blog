{
 "cells": [
  {
   "attachments": {},
   "cell_type": "markdown",
   "metadata": {},
   "source": [
    "---\n",
    "title: \"Test css\"\n",
    "# subtitle: Last\n",
    "author: ChoCho<br><br>\n",
    "date: 2023-01-01\n",
    "# date: last-modified\n",
    "date-format: iso\n",
    "institute: MODIFIED\n",
    "bibliography: ../references.bib\n",
    "slide-number: c/t\n",
    "categories: [slide]\n",
    "# knitr: true\n",
    "# jupyter: python3\n",
    "format:\n",
    "  revealjs:\n",
    "    theme: [serif,custom.scss]    # 像 LaTeX\n",
    "    # theme: [custom.scss] \n",
    "    width: 1800\n",
    "    height: 1050\n",
    "    # preview-links: auto\n",
    "    chalkboard:\n",
    "      theme: whiteboard\n",
    "      boardmarker-width: 2\n",
    "      # src: \"Chalkboard-2022-12-27.json\"\n",
    "    scrollable: true\n",
    "    echo: true\n",
    "    # footer: \"foot\"\n",
    "    # logo: cover.jpg\n",
    "# filters: [revealjs_filter.lua]\n",
    "\n",
    "---\n",
    "\n",
    "## MODIFIED\n"
   ]
  },
  {
   "cell_type": "code",
   "execution_count": 1,
   "metadata": {},
   "outputs": [
    {
     "data": {
      "text/markdown": [
       "Hoc vero non videre, maximoargumento esse voluptatem illam, qua sublata neget se intellegereomnino quid sit bonum - eam autem ita persequitur: quae palatopercipiatur, quae auribus; cetera addit, quae si appelles, honospraefandus sit - hoc igitur, quod solum bonum severus et gravisphilosophus novit, idem non videt ne expetendum quidem esse, quodeam voluptatem hoc eodem auctore non desideremus, cum dolorecareamus. quam haec sunt contraria! hic sidefinire, si dividere didicisset, si loquendi vim, si deniqueconsuetudinem verborum teneret, numquam in tantas salebrasincidisset. nunc vides, quid faciat. quam nemo umquam voluptatemappellavit, appellat; quae duo sunt, unum facit. hanc in motuvoluptatem - sic enim has suaves et quasi dulces voluptatesappellat - interdum ita extenuat, ut M'. Curium putes loqui, interdum ita laudat, ut quid praeterea sit bonum neget se posse nesuspicari quidem. quae iam oratio non a philosopho aliquo, sed acensore opprimenda est. non est enim vitium in oratione solum, sedetiam in moribus. luxuriam non reprehendit, modo sit vacua infinitacupiditate et timore. hoc loco discipulos quaerer!"
      ],
      "text/plain": [
       "<IPython.core.display.Markdown object>"
      ]
     },
     "metadata": {},
     "output_type": "display_data"
    }
   ],
   "source": [
    "#| echo: False\n",
    "\n",
    "from IPython.display import display, Markdown\n",
    "import lipsum\n",
    "display(Markdown(lipsum.generate_words(160)))\n"
   ]
  },
  {
   "cell_type": "code",
   "execution_count": null,
   "metadata": {},
   "outputs": [],
   "source": []
  }
 ],
 "metadata": {
  "kernelspec": {
   "display_name": "base",
   "language": "python",
   "name": "python3"
  },
  "language_info": {
   "codemirror_mode": {
    "name": "ipython",
    "version": 3
   },
   "file_extension": ".py",
   "mimetype": "text/x-python",
   "name": "python",
   "nbconvert_exporter": "python",
   "pygments_lexer": "ipython3",
   "version": "3.10.6"
  },
  "orig_nbformat": 4,
  "vscode": {
   "interpreter": {
    "hash": "924b4310eef0a4626e6be183858539210ebddb9168f6747ddef9ed01eb54dbfb"
   }
  }
 },
 "nbformat": 4,
 "nbformat_minor": 2
}
