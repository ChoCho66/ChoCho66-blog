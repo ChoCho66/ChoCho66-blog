{
 "cells": [
  {
   "attachments": {},
   "cell_type": "markdown",
   "metadata": {},
   "source": [
    "---\n",
    "title: \"title\"\n",
    "# subtitle: Last\n",
    "author: ChoCho<br><br>\n",
    "date-format: iso\n",
    "date: last-modified\n",
    "institute: MODIFIED\n",
    "# bibliography: ../references.bib\n",
    "slide-number: c/t\n",
    "categories: [slide]\n",
    "# knitr: true\n",
    "# jupyter: python3\n",
    "format:\n",
    "  revealjs:\n",
    "    theme: [serif,custom.scss]    # 像 LaTeX\n",
    "    width: 1800\n",
    "    height: 1050\n",
    "    # preview-links: auto\n",
    "    chalkboard:\n",
    "      theme: whiteboard\n",
    "      boardmarker-width: 2\n",
    "      # src: \"Chalkboard-2022-12-27.json\"\n",
    "    scrollable: true\n",
    "    echo: true\n",
    "    # footer: \"foot\"\n",
    "    # logo: cover.jpg\n",
    "# filters: [revealjs_filter.lua]\n",
    "\n",
    "---\n",
    "\n",
    "## MODIFIED\n"
   ]
  },
  {
   "attachments": {},
   "cell_type": "markdown",
   "metadata": {},
   "source": [
    "# YRSdf \n",
    "\n",
    "\n",
    "## 222\n",
    "\n",
    "Lorem ipsum dolor sit amet, officia excepteur ex fugiat reprehenderit enim\n",
    "labore culpa sint ad nisi Lorem pariatur mollit ex esse exercitation amet. Nisi\n",
    "animcupidatat excepteur officia. Reprehenderit nostrud nostrud ipsum Lorem est\n",
    "aliquip amet voluptate voluptate dolor minim nulla est proident. Nostrud officia\n",
    "pariatur ut officia. Sit irure elit esse ea nulla sunt ex occaecat reprehenderit\n",
    "commodo officia dolor Lorem duis laboris cupidatat officia voluptate. Culpa\n",
    "proident adipisicing id nulla nisi laboris ex in Lorem sunt duis officia\n",
    "eiusmod. Aliqua reprehenderit commodo ex non excepteur duis sunt velit enim.\n",
    "Voluptate laboris sint cupidatat ullamco ut ea consectetur et est culpa et\n",
    "culpa duis.\n",
    "\n",
    "---\n",
    "\n",
    "- asdjpai djpwidj \n",
    "\n",
    "- adasda d\n",
    "\n",
    "- adwipj dpia ji\n"
   ]
  },
  {
   "attachments": {},
   "cell_type": "markdown",
   "metadata": {
    "slideshow": {
     "slide_type": "slide"
    }
   },
   "source": [
    "## title\n",
    "\n",
    "{{< video https://youtu.be/wo9vZccmqwc width=\"100%\" height=\"85%\" >}}"
   ]
  },
  {
   "attachments": {},
   "cell_type": "markdown",
   "metadata": {
    "slideshow": {
     "slide_type": "slide"
    }
   },
   "source": [
    "{{< video https://youtu.be/wo9vZccmqwc width=\"100%\" height=\"100%\" >}}"
   ]
  }
 ],
 "metadata": {
  "kernelspec": {
   "display_name": "base",
   "language": "python",
   "name": "python3"
  },
  "language_info": {
   "codemirror_mode": {
    "name": "ipython",
    "version": 3
   },
   "file_extension": ".py",
   "mimetype": "text/x-python",
   "name": "python",
   "nbconvert_exporter": "python",
   "pygments_lexer": "ipython3",
   "version": "3.10.6 | packaged by conda-forge | (main, Aug 22 2022, 20:41:22) [Clang 13.0.1 ]"
  },
  "orig_nbformat": 4,
  "vscode": {
   "interpreter": {
    "hash": "924b4310eef0a4626e6be183858539210ebddb9168f6747ddef9ed01eb54dbfb"
   }
  }
 },
 "nbformat": 4,
 "nbformat_minor": 2
}
